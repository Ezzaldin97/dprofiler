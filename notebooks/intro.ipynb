{
 "cells": [
  {
   "cell_type": "code",
   "execution_count": 1,
   "metadata": {},
   "outputs": [],
   "source": [
    "import sys\n",
    "import os\n",
    "sys.path.append(os.path.abspath(\"..\"))\n",
    "from qprofiler import DataProfiler\n",
    "from qprofiler import QTest\n",
    "from pathlib import Path"
   ]
  },
  {
   "cell_type": "code",
   "execution_count": 2,
   "metadata": {},
   "outputs": [
    {
     "name": "stdout",
     "output_type": "stream",
     "text": [
      "new data-profile created successfully.\n"
     ]
    }
   ],
   "source": [
    "# now create an instance of DataProfiler to create a profile for training dataset..\n",
    "# leave the path parameter will create the profiler directory in current working directory\n",
    "data_profiler = DataProfiler()"
   ]
  },
  {
   "cell_type": "code",
   "execution_count": 3,
   "metadata": {},
   "outputs": [],
   "source": [
    "# now scan the training data to create profile file and save it in .dprofiler.\n",
    "ref = data_profiler.scan_csv_file(\"../datasets/loan-perf.csv\", unique_identifier=\"customerid\")\n",
    "# now save it\n",
    "data_profiler.create_profile(ref,\n",
    "                             \"loan-perf\")"
   ]
  },
  {
   "cell_type": "code",
   "execution_count": 4,
   "metadata": {},
   "outputs": [
    {
     "name": "stdout",
     "output_type": "stream",
     "text": [
      "d:\\dprofiler\\notebooks\\.dprofiler\\\n",
      "|\n",
      "├──archive\\\n",
      "|   └──loan-perf\\\n",
      "|   |\n",
      "|\n",
      "├──in_use\\\n",
      "|   └──loan-perf\\\n",
      "|   |   └──loan-perf.yml\n",
      "|   |\n",
      "|\n",
      "└──metadata.db\n"
     ]
    }
   ],
   "source": [
    "# show file structure in .dprofiler directory..\n",
    "data_profiler.profiler_tree()"
   ]
  },
  {
   "cell_type": "code",
   "execution_count": 6,
   "metadata": {},
   "outputs": [],
   "source": [
    "# now we have the information that we need to compare new datasets\n",
    "# to training datasets, and create quality checks...\n",
    "\n",
    "# let's define an instance of QTest Module\n",
    "# it takes the path of reference profile.\n",
    "qtest = QTest(Path(\".dprofiler/in_use/loan-perf/loan-perf.yml\"))"
   ]
  },
  {
   "cell_type": "code",
   "execution_count": 7,
   "metadata": {},
   "outputs": [],
   "source": [
    "# now create a profile for test dataset.\n",
    "new = qtest.scan_csv_file(\"../datasets/loan-perf-test.csv\", unique_identifier=\"customerid\")"
   ]
  },
  {
   "cell_type": "code",
   "execution_count": 8,
   "metadata": {},
   "outputs": [
    {
     "data": {
      "text/plain": [
       "{'msg': \"number of columns aren't identical\", 'res': False}"
      ]
     },
     "execution_count": 8,
     "metadata": {},
     "output_type": "execute_result"
    }
   ],
   "source": [
    "# now test the columns in test if matches the columns in reference dataset.\n",
    "# the result will be false...\n",
    "# because of target label in reference dataset..\n",
    "qtest.check_columns(new)"
   ]
  },
  {
   "cell_type": "code",
   "execution_count": 9,
   "metadata": {},
   "outputs": [
    {
     "data": {
      "text/plain": [
       "{'msg': \"unique values in test don't match reference\", 'res': False}"
      ]
     },
     "execution_count": 9,
     "metadata": {},
     "output_type": "execute_result"
    }
   ],
   "source": [
    "# check the number of unique categories in categorical columns..\n",
    "# also false \n",
    "qtest.check_unique_categories(new)"
   ]
  },
  {
   "cell_type": "code",
   "execution_count": 10,
   "metadata": {},
   "outputs": [
    {
     "data": {
      "text/plain": [
       "{'msg': 'lower bound of termdays is greater than or equal 15.', 'res': True}"
      ]
     },
     "execution_count": 10,
     "metadata": {},
     "output_type": "execute_result"
    }
   ],
   "source": [
    "# let's get a true test.\n",
    "qtest.check_numeric_below_thresh(new,\n",
    "                                 15,\n",
    "                                 \"termdays\")"
   ]
  },
  {
   "cell_type": "code",
   "execution_count": null,
   "metadata": {},
   "outputs": [],
   "source": []
  }
 ],
 "metadata": {
  "kernelspec": {
   "display_name": "dprofiler-w8U64Aau-py3.10",
   "language": "python",
   "name": "python3"
  },
  "language_info": {
   "codemirror_mode": {
    "name": "ipython",
    "version": 3
   },
   "file_extension": ".py",
   "mimetype": "text/x-python",
   "name": "python",
   "nbconvert_exporter": "python",
   "pygments_lexer": "ipython3",
   "version": "3.10.0"
  },
  "orig_nbformat": 4
 },
 "nbformat": 4,
 "nbformat_minor": 2
}
