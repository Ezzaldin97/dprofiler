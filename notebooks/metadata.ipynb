{
 "cells": [
  {
   "cell_type": "code",
   "execution_count": 1,
   "metadata": {},
   "outputs": [],
   "source": [
    "import sys\n",
    "import os\n",
    "sys.path.append(os.path.abspath(\"..\"))\n",
    "from qprofiler import DataProfiler"
   ]
  },
  {
   "cell_type": "code",
   "execution_count": 2,
   "metadata": {},
   "outputs": [
    {
     "name": "stdout",
     "output_type": "stream",
     "text": [
      "profiler already exists\n"
     ]
    }
   ],
   "source": [
    "# now create an instance of DataProfiler to create a profile for training dataset..\n",
    "# leave the path parameter will create the profiler directory in current working directory\n",
    "data_profiler = DataProfiler()"
   ]
  },
  {
   "cell_type": "code",
   "execution_count": 15,
   "metadata": {},
   "outputs": [
    {
     "name": "stdout",
     "output_type": "stream",
     "text": [
      "d:\\dprofiler\\notebooks\\.dprofiler\\\n",
      "|\n",
      "├──archive\\\n",
      "|   └──loan-perf\\\n",
      "|   |   ├──loan-perf-2023-09-23-11-57-10.yml\n",
      "|   |   ├──loan-perf-2023-09-23-12-04-18.yml\n",
      "|   |   └──loan-perf-2023-09-23-12-17-14.yml\n",
      "|   |\n",
      "|\n",
      "├──in_use\\\n",
      "|   └──loan-perf\\\n",
      "|   |   └──loan-perf.yml\n",
      "|   |\n",
      "|\n",
      "└──metadata.db\n"
     ]
    }
   ],
   "source": [
    "# show file structure in .dprofiler directory..\n",
    "data_profiler.profiler_tree()"
   ]
  },
  {
   "cell_type": "code",
   "execution_count": 16,
   "metadata": {},
   "outputs": [],
   "source": [
    "# it seems that loan-perf updated \n",
    "# the last version archieved, and replaced by another version.\n",
    "# let's update another version.\n",
    "ref = data_profiler.scan_csv_file(\"../datasets/loan-perf.csv\", unique_identifier=\"customerid\")\n",
    "data_profiler.update_profile(ref, 'loan-perf')"
   ]
  },
  {
   "cell_type": "code",
   "execution_count": 17,
   "metadata": {},
   "outputs": [
    {
     "name": "stdout",
     "output_type": "stream",
     "text": [
      "d:\\dprofiler\\notebooks\\.dprofiler\\\n",
      "|\n",
      "├──archive\\\n",
      "|   └──loan-perf\\\n",
      "|   |   ├──loan-perf-2023-09-23-11-57-10.yml\n",
      "|   |   ├──loan-perf-2023-09-23-12-04-18.yml\n",
      "|   |   ├──loan-perf-2023-09-23-12-17-14.yml\n",
      "|   |   └──loan-perf-2023-09-23-12-20-38.yml\n",
      "|   |\n",
      "|\n",
      "├──in_use\\\n",
      "|   └──loan-perf\\\n",
      "|   |   └──loan-perf.yml\n",
      "|   |\n",
      "|\n",
      "└──metadata.db\n"
     ]
    }
   ],
   "source": [
    "# show file structure in .dprofiler directory..\n",
    "data_profiler.profiler_tree()"
   ]
  },
  {
   "cell_type": "code",
   "execution_count": 18,
   "metadata": {},
   "outputs": [
    {
     "name": "stdout",
     "output_type": "stream",
     "text": [
      "shape: (1, 4)\n",
      "┌──────────────┬─────────────────────┬──────────────────────┬─────────────────┐\n",
      "│ profile_name ┆ last_creation_date  ┆ last_archieving_date ┆ no_of_archieves │\n",
      "│ ---          ┆ ---                 ┆ ---                  ┆ ---             │\n",
      "│ str          ┆ str                 ┆ str                  ┆ i64             │\n",
      "╞══════════════╪═════════════════════╪══════════════════════╪═════════════════╡\n",
      "│ loan-perf    ┆ 2023-09-23 12:20:38 ┆ 2023-09-23 12:20:38  ┆ 5               │\n",
      "└──────────────┴─────────────────────┴──────────────────────┴─────────────────┘\n"
     ]
    }
   ],
   "source": [
    "# now get metadata of this project\n",
    "data_profiler.profiler_metadata()"
   ]
  },
  {
   "cell_type": "code",
   "execution_count": 19,
   "metadata": {},
   "outputs": [],
   "source": [
    "# now create a new profile.\n",
    "new = data_profiler.scan_csv_file(\"../datasets/loan-perf-test.csv\", unique_identifier=\"customerid\")\n",
    "data_profiler.create_profile(new, 'loan-perf-test')"
   ]
  },
  {
   "cell_type": "code",
   "execution_count": 20,
   "metadata": {},
   "outputs": [
    {
     "name": "stdout",
     "output_type": "stream",
     "text": [
      "d:\\dprofiler\\notebooks\\.dprofiler\\\n",
      "|\n",
      "├──archive\\\n",
      "|   ├──loan-perf\\\n",
      "|   |   ├──loan-perf-2023-09-23-11-57-10.yml\n",
      "|   |   ├──loan-perf-2023-09-23-12-04-18.yml\n",
      "|   |   ├──loan-perf-2023-09-23-12-17-14.yml\n",
      "|   |   └──loan-perf-2023-09-23-12-20-38.yml\n",
      "|   |\n",
      "|   └──loan-perf-test\\\n",
      "|   |\n",
      "|\n",
      "├──in_use\\\n",
      "|   ├──loan-perf\\\n",
      "|   |   └──loan-perf.yml\n",
      "|   |\n",
      "|   └──loan-perf-test\\\n",
      "|   |   └──loan-perf-test.yml\n",
      "|   |\n",
      "|\n",
      "└──metadata.db\n"
     ]
    }
   ],
   "source": [
    "# show file structure in .dprofiler directory..\n",
    "data_profiler.profiler_tree()"
   ]
  },
  {
   "cell_type": "code",
   "execution_count": 21,
   "metadata": {},
   "outputs": [
    {
     "name": "stdout",
     "output_type": "stream",
     "text": [
      "shape: (2, 4)\n",
      "┌────────────────┬────────────────────────────┬──────────────────────┬─────────────────┐\n",
      "│ profile_name   ┆ last_creation_date         ┆ last_archieving_date ┆ no_of_archieves │\n",
      "│ ---            ┆ ---                        ┆ ---                  ┆ ---             │\n",
      "│ str            ┆ str                        ┆ str                  ┆ i64             │\n",
      "╞════════════════╪════════════════════════════╪══════════════════════╪═════════════════╡\n",
      "│ loan-perf      ┆ 2023-09-23 12:20:38        ┆ 2023-09-23 12:20:38  ┆ 5               │\n",
      "│ loan-perf-test ┆ 2023-09-23 12:20:49.335002 ┆ null                 ┆ 1               │\n",
      "└────────────────┴────────────────────────────┴──────────────────────┴─────────────────┘\n"
     ]
    }
   ],
   "source": [
    "# now get metadata of this project\n",
    "data_profiler.profiler_metadata()"
   ]
  },
  {
   "cell_type": "code",
   "execution_count": 22,
   "metadata": {},
   "outputs": [],
   "source": [
    "# let's override this file.\n",
    "data_profiler.create_profile(new, 'loan-perf-test', True)"
   ]
  },
  {
   "cell_type": "code",
   "execution_count": 23,
   "metadata": {},
   "outputs": [
    {
     "name": "stdout",
     "output_type": "stream",
     "text": [
      "shape: (2, 4)\n",
      "┌────────────────┬─────────────────────┬──────────────────────┬─────────────────┐\n",
      "│ profile_name   ┆ last_creation_date  ┆ last_archieving_date ┆ no_of_archieves │\n",
      "│ ---            ┆ ---                 ┆ ---                  ┆ ---             │\n",
      "│ str            ┆ str                 ┆ str                  ┆ i64             │\n",
      "╞════════════════╪═════════════════════╪══════════════════════╪═════════════════╡\n",
      "│ loan-perf      ┆ 2023-09-23 12:20:38 ┆ 2023-09-23 12:20:38  ┆ 5               │\n",
      "│ loan-perf-test ┆ 2023-09-23 12:20:54 ┆ 2023-09-23 12:20:54  ┆ 2               │\n",
      "└────────────────┴─────────────────────┴──────────────────────┴─────────────────┘\n"
     ]
    }
   ],
   "source": [
    "# now get metadata of this project\n",
    "data_profiler.profiler_metadata()"
   ]
  },
  {
   "cell_type": "code",
   "execution_count": null,
   "metadata": {},
   "outputs": [],
   "source": []
  }
 ],
 "metadata": {
  "kernelspec": {
   "display_name": "qprofiler-w8U64Aau-py3.10",
   "language": "python",
   "name": "python3"
  },
  "language_info": {
   "codemirror_mode": {
    "name": "ipython",
    "version": 3
   },
   "file_extension": ".py",
   "mimetype": "text/x-python",
   "name": "python",
   "nbconvert_exporter": "python",
   "pygments_lexer": "ipython3",
   "version": "3.10.0"
  },
  "orig_nbformat": 4
 },
 "nbformat": 4,
 "nbformat_minor": 2
}
