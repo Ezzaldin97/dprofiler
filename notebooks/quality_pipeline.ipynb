{
 "cells": [
  {
   "cell_type": "code",
   "execution_count": 1,
   "metadata": {},
   "outputs": [],
   "source": [
    "import sys\n",
    "import os\n",
    "sys.path.append(os.path.abspath(\"..\"))\n",
    "from qprofiler import DataProfiler\n",
    "from qprofiler import QTest, QPipeline\n",
    "from pathlib import Path"
   ]
  },
  {
   "cell_type": "code",
   "execution_count": 2,
   "metadata": {},
   "outputs": [
    {
     "name": "stdout",
     "output_type": "stream",
     "text": [
      "profiler already exists\n"
     ]
    }
   ],
   "source": [
    "# now create an instance of DataProfiler to create a profile for training dataset..\n",
    "# leave the path parameter will create the profiler directory in current working directory\n",
    "data_profiler = DataProfiler()"
   ]
  },
  {
   "cell_type": "code",
   "execution_count": 3,
   "metadata": {},
   "outputs": [
    {
     "name": "stdout",
     "output_type": "stream",
     "text": [
      "profile already exists\n"
     ]
    }
   ],
   "source": [
    "# now scan the training data to create profile file and save it in .dprofiler.\n",
    "ref = data_profiler.scan_csv_file(\"../datasets/loan-perf.csv\", unique_identifier=\"customerid\")\n",
    "# now save it\n",
    "data_profiler.create_profile(ref,\n",
    "                             \"loan-perf\")"
   ]
  },
  {
   "cell_type": "code",
   "execution_count": 4,
   "metadata": {},
   "outputs": [],
   "source": [
    "# now we have the information that we need to compare new datasets\n",
    "# to training datasets, and create quality checks...\n",
    "\n",
    "# let's define an instance of QTest Module\n",
    "# it takes the path of reference profile.\n",
    "qtest = QTest(Path(\".dprofiler/loan-perf.yml\"))"
   ]
  },
  {
   "cell_type": "code",
   "execution_count": 5,
   "metadata": {},
   "outputs": [],
   "source": [
    "# now create a profile for test dataset.\n",
    "new = qtest.scan_csv_file(\"../datasets/loan-perf-test.csv\", unique_identifier=\"customerid\")"
   ]
  },
  {
   "cell_type": "code",
   "execution_count": 6,
   "metadata": {},
   "outputs": [],
   "source": [
    "# create a pipeline of tests\n",
    "qpipeline = QPipeline(test_obj=qtest, verbose = True)"
   ]
  },
  {
   "cell_type": "code",
   "execution_count": 7,
   "metadata": {},
   "outputs": [
    {
     "data": {
      "text/plain": [
       "<qprofiler.qcheck.QPipeline at 0x1d52bf1b400>"
      ]
     },
     "execution_count": 7,
     "metadata": {},
     "output_type": "execute_result"
    }
   ],
   "source": [
    "qpipeline.append(name = \"check_columns\",\n",
    "                 check = qtest.check_columns,\n",
    "                 error_level = \"error\",\n",
    "                 test_profile=new)\\\n",
    "         .append(name = \"check_unique_categories\",\n",
    "                 check = qtest.check_unique_categories,\n",
    "                 error_level = \"error\",\n",
    "                 test_profile=new)\\\n",
    "         .append(name = \"check_numeric_below_thresh\",\n",
    "                 check = qtest.check_numeric_below_thresh,\n",
    "                 error_level = \"warn\",\n",
    "                 test_profile=new,\n",
    "                 min_thresh = 15, col  = \"termdays\")"
   ]
  },
  {
   "cell_type": "code",
   "execution_count": 8,
   "metadata": {},
   "outputs": [
    {
     "data": {
      "text/plain": [
       "['check_columns', 'check_unique_categories', 'check_numeric_below_thresh']"
      ]
     },
     "execution_count": 8,
     "metadata": {},
     "output_type": "execute_result"
    }
   ],
   "source": [
    "qpipeline.tests"
   ]
  },
  {
   "cell_type": "code",
   "execution_count": 9,
   "metadata": {},
   "outputs": [
    {
     "name": "stdout",
     "output_type": "stream",
     "text": [
      "number of columns aren't identical\n",
      "unique values in test don't match reference\n",
      "lower bound of termdays is greater than or equal 15.\n"
     ]
    }
   ],
   "source": [
    "res = qpipeline.run()"
   ]
  },
  {
   "cell_type": "code",
   "execution_count": 10,
   "metadata": {},
   "outputs": [
    {
     "data": {
      "text/plain": [
       "False"
      ]
     },
     "execution_count": 10,
     "metadata": {},
     "output_type": "execute_result"
    }
   ],
   "source": [
    "res"
   ]
  },
  {
   "cell_type": "code",
   "execution_count": 11,
   "metadata": {},
   "outputs": [
    {
     "name": "stdout",
     "output_type": "stream",
     "text": [
      "check_numeric_below_thresh test removed\n"
     ]
    },
    {
     "data": {
      "text/plain": [
       "<qprofiler.qcheck.QPipeline at 0x1d52bf1b400>"
      ]
     },
     "execution_count": 11,
     "metadata": {},
     "output_type": "execute_result"
    }
   ],
   "source": [
    "qpipeline.remove_step('check_numeric_below_thresh')"
   ]
  },
  {
   "cell_type": "code",
   "execution_count": 12,
   "metadata": {},
   "outputs": [
    {
     "data": {
      "text/plain": [
       "['check_columns', 'check_unique_categories']"
      ]
     },
     "execution_count": 12,
     "metadata": {},
     "output_type": "execute_result"
    }
   ],
   "source": [
    "qpipeline.tests"
   ]
  },
  {
   "cell_type": "code",
   "execution_count": 13,
   "metadata": {},
   "outputs": [
    {
     "name": "stdout",
     "output_type": "stream",
     "text": [
      "all quality checks removed\n"
     ]
    }
   ],
   "source": [
    "qpipeline.clear_pipeline()"
   ]
  },
  {
   "cell_type": "code",
   "execution_count": 14,
   "metadata": {},
   "outputs": [
    {
     "data": {
      "text/plain": [
       "[]"
      ]
     },
     "execution_count": 14,
     "metadata": {},
     "output_type": "execute_result"
    }
   ],
   "source": [
    "qpipeline.tests"
   ]
  },
  {
   "cell_type": "code",
   "execution_count": 13,
   "metadata": {},
   "outputs": [
    {
     "ename": "ValueError",
     "evalue": "check_unique_categories test doesn't exist in pipeline",
     "output_type": "error",
     "traceback": [
      "\u001b[1;31m---------------------------------------------------------------------------\u001b[0m",
      "\u001b[1;31mValueError\u001b[0m                                Traceback (most recent call last)",
      "File \u001b[1;32mD:\\dprofiler\\qprofiler\\qcheck.py:982\u001b[0m, in \u001b[0;36mQPipeline.remove_step\u001b[1;34m(self, name)\u001b[0m\n\u001b[0;32m    981\u001b[0m \u001b[39mtry\u001b[39;00m:\n\u001b[1;32m--> 982\u001b[0m     idx \u001b[39m=\u001b[39m \u001b[39mself\u001b[39;49m\u001b[39m.\u001b[39;49mtests\u001b[39m.\u001b[39;49mindex(name)\n\u001b[0;32m    983\u001b[0m     \u001b[39mself\u001b[39m\u001b[39m.\u001b[39mtests\u001b[39m.\u001b[39mremove(name)\n",
      "\u001b[1;31mValueError\u001b[0m: 'check_unique_categories' is not in list",
      "\nDuring handling of the above exception, another exception occurred:\n",
      "\u001b[1;31mValueError\u001b[0m                                Traceback (most recent call last)",
      "\u001b[1;32md:\\dprofiler\\notebooks\\quality_pipeline.ipynb Cell 13\u001b[0m line \u001b[0;36m1\n\u001b[1;32m----> <a href='vscode-notebook-cell:/d%3A/dprofiler/notebooks/quality_pipeline.ipynb#X15sZmlsZQ%3D%3D?line=0'>1</a>\u001b[0m qpipeline\u001b[39m.\u001b[39;49mremove_step(\u001b[39m'\u001b[39;49m\u001b[39mcheck_unique_categories\u001b[39;49m\u001b[39m'\u001b[39;49m)\n",
      "File \u001b[1;32mD:\\dprofiler\\qprofiler\\qcheck.py:990\u001b[0m, in \u001b[0;36mQPipeline.remove_step\u001b[1;34m(self, name)\u001b[0m\n\u001b[0;32m    988\u001b[0m     \u001b[39mreturn\u001b[39;00m \u001b[39mself\u001b[39m\n\u001b[0;32m    989\u001b[0m \u001b[39mexcept\u001b[39;00m \u001b[39mValueError\u001b[39;00m:\n\u001b[1;32m--> 990\u001b[0m     \u001b[39mraise\u001b[39;00m \u001b[39mValueError\u001b[39;00m(\u001b[39mf\u001b[39m\u001b[39m\"\u001b[39m\u001b[39m{\u001b[39;00mname\u001b[39m}\u001b[39;00m\u001b[39m test doesn\u001b[39m\u001b[39m'\u001b[39m\u001b[39mt exist in pipeline\u001b[39m\u001b[39m\"\u001b[39m)\n",
      "\u001b[1;31mValueError\u001b[0m: check_unique_categories test doesn't exist in pipeline"
     ]
    }
   ],
   "source": [
    "qpipeline.remove_step('check_unique_categories')"
   ]
  },
  {
   "cell_type": "code",
   "execution_count": null,
   "metadata": {},
   "outputs": [],
   "source": []
  }
 ],
 "metadata": {
  "kernelspec": {
   "display_name": "qprofiler-w8U64Aau-py3.10",
   "language": "python",
   "name": "python3"
  },
  "language_info": {
   "codemirror_mode": {
    "name": "ipython",
    "version": 3
   },
   "file_extension": ".py",
   "mimetype": "text/x-python",
   "name": "python",
   "nbconvert_exporter": "python",
   "pygments_lexer": "ipython3",
   "version": "3.10.0"
  },
  "orig_nbformat": 4
 },
 "nbformat": 4,
 "nbformat_minor": 2
}
